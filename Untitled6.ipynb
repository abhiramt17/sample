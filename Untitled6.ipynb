{
 "cells": [
  {
   "cell_type": "code",
   "execution_count": 2,
   "metadata": {},
   "outputs": [],
   "source": [
    "%matplotlib inline\n",
    "import matplotlib.pyplot as plt"
   ]
  },
  {
   "cell_type": "code",
   "execution_count": 6,
   "metadata": {},
   "outputs": [],
   "source": [
    "import ipywidgets\n",
    "import ipywidgets.embed\n",
    "import numpy as np"
   ]
  },
  {
   "cell_type": "code",
   "execution_count": 9,
   "metadata": {},
   "outputs": [
    {
     "data": {
      "application/vnd.jupyter.widget-view+json": {
       "model_id": "3a6d041633924a0d8111b26a9b307351",
       "version_major": 2,
       "version_minor": 0
      },
      "text/html": [
       "<p>Failed to display Jupyter Widget of type <code>interactive</code>.</p>\n",
       "<p>\n",
       "  If you're reading this message in the Jupyter Notebook or JupyterLab Notebook, it may mean\n",
       "  that the widgets JavaScript is still loading. If this message persists, it\n",
       "  likely means that the widgets JavaScript library is either not installed or\n",
       "  not enabled. See the <a href=\"https://ipywidgets.readthedocs.io/en/stable/user_install.html\">Jupyter\n",
       "  Widgets Documentation</a> for setup instructions.\n",
       "</p>\n",
       "<p>\n",
       "  If you're reading this message in another frontend (for example, a static\n",
       "  rendering on GitHub or <a href=\"https://nbviewer.jupyter.org/\">NBViewer</a>),\n",
       "  it may mean that your frontend doesn't currently support widgets.\n",
       "</p>\n"
      ],
      "text/plain": [
       "interactive(children=(FloatSlider(value=0.1, description='power', max=0.5), Output()), _dom_classes=('widget-interact',))"
      ]
     },
     "metadata": {},
     "output_type": "display_data"
    }
   ],
   "source": [
    "@ipywidgets.interact(power = (0.0, 0.5, 0.1))\n",
    "def make_plot(power = 0.1):\n",
    "    x = np.mgrid[0:10:200j]\n",
    "    y= x**power\n",
    "    plt.semilogx(x,y)"
   ]
  },
  {
   "cell_type": "code",
   "execution_count": null,
   "metadata": {},
   "outputs": [],
   "source": []
  }
 ],
 "metadata": {
  "kernelspec": {
   "display_name": "Environment (conda_is590dv-default)",
   "language": "python",
   "name": "conda_is590dv-default"
  },
  "language_info": {
   "codemirror_mode": {
    "name": "ipython",
    "version": 3
   },
   "file_extension": ".py",
   "mimetype": "text/x-python",
   "name": "python",
   "nbconvert_exporter": "python",
   "pygments_lexer": "ipython3",
   "version": "3.6.4"
  },
  "widgets": {
   "application/vnd.jupyter.widget-state+json": {
    "state": {
     "083cf8739c5b4fd386a00970c491fdb1": {
      "model_module": "@jupyter-widgets/controls",
      "model_module_version": "1.1.0",
      "model_name": "VBoxModel",
      "state": {
       "_dom_classes": [
        "widget-interact"
       ],
       "children": [
        "IPY_MODEL_aea84b3c59fe45288c9ffba4c2f5116e",
        "IPY_MODEL_e0dff8cde0d84fb8a59f2e0a14050688"
       ],
       "layout": "IPY_MODEL_0b23df3d57c945de8ec2cb606a423933"
      }
     },
     "0b23df3d57c945de8ec2cb606a423933": {
      "model_module": "@jupyter-widgets/base",
      "model_module_version": "1.0.0",
      "model_name": "LayoutModel",
      "state": {}
     },
     "20fea18656df48ac855f59a097b2646c": {
      "model_module": "@jupyter-widgets/controls",
      "model_module_version": "1.1.0",
      "model_name": "SliderStyleModel",
      "state": {
       "description_width": ""
      }
     },
     "3a6d041633924a0d8111b26a9b307351": {
      "model_module": "@jupyter-widgets/controls",
      "model_module_version": "1.1.0",
      "model_name": "VBoxModel",
      "state": {
       "_dom_classes": [
        "widget-interact"
       ],
       "children": [
        "IPY_MODEL_9d9b1c97c0204a168f0a3495dee1553e",
        "IPY_MODEL_e2b405f927c54e96bff12cae53d87e47"
       ],
       "layout": "IPY_MODEL_d5edaef251ad4ca2be43e44d7fc469f3"
      }
     },
     "65603fb51e7542399f1a8208836bebea": {
      "model_module": "@jupyter-widgets/base",
      "model_module_version": "1.0.0",
      "model_name": "LayoutModel",
      "state": {}
     },
     "86b6f0b060a44695b062cd3a4f971ec5": {
      "model_module": "@jupyter-widgets/base",
      "model_module_version": "1.0.0",
      "model_name": "LayoutModel",
      "state": {}
     },
     "86ff0995899242d7aa72824782b4f33c": {
      "model_module": "@jupyter-widgets/base",
      "model_module_version": "1.0.0",
      "model_name": "LayoutModel",
      "state": {}
     },
     "9d9b1c97c0204a168f0a3495dee1553e": {
      "model_module": "@jupyter-widgets/controls",
      "model_module_version": "1.1.0",
      "model_name": "FloatSliderModel",
      "state": {
       "description": "power",
       "layout": "IPY_MODEL_86b6f0b060a44695b062cd3a4f971ec5",
       "max": 0.5,
       "step": 0.1,
       "style": "IPY_MODEL_20fea18656df48ac855f59a097b2646c",
       "value": 0.4
      }
     },
     "aea84b3c59fe45288c9ffba4c2f5116e": {
      "model_module": "@jupyter-widgets/controls",
      "model_module_version": "1.1.0",
      "model_name": "FloatSliderModel",
      "state": {
       "description": "power",
       "layout": "IPY_MODEL_86ff0995899242d7aa72824782b4f33c",
       "max": 0.5,
       "step": 0.1,
       "style": "IPY_MODEL_ff7a3130db1d4231bfcb26bb78515332",
       "value": 0.1
      }
     },
     "d5edaef251ad4ca2be43e44d7fc469f3": {
      "model_module": "@jupyter-widgets/base",
      "model_module_version": "1.0.0",
      "model_name": "LayoutModel",
      "state": {}
     },
     "da9d8274bfc949a98b6d09008ac87763": {
      "model_module": "@jupyter-widgets/base",
      "model_module_version": "1.0.0",
      "model_name": "LayoutModel",
      "state": {}
     },
     "e0dff8cde0d84fb8a59f2e0a14050688": {
      "model_module": "@jupyter-widgets/output",
      "model_module_version": "1.0.0",
      "model_name": "OutputModel",
      "state": {
       "layout": "IPY_MODEL_65603fb51e7542399f1a8208836bebea",
       "outputs": [
        {
         "ename": "AttributeError",
         "evalue": "module 'matplotlib.pyplot' has no attribute 'semilog'",
         "output_type": "error",
         "traceback": [
          "\u001b[0;31m---------------------------------------------------------------------------\u001b[0m",
          "\u001b[0;31mAttributeError\u001b[0m                            Traceback (most recent call last)",
          "\u001b[0;32m/home/shared/sp18-is590dv/conda_envs/is590dv-default/lib/python3.6/site-packages/ipywidgets/widgets/interaction.py\u001b[0m in \u001b[0;36mupdate\u001b[0;34m(self, *args)\u001b[0m\n\u001b[1;32m    248\u001b[0m                     \u001b[0mvalue\u001b[0m \u001b[0;34m=\u001b[0m \u001b[0mwidget\u001b[0m\u001b[0;34m.\u001b[0m\u001b[0mget_interact_value\u001b[0m\u001b[0;34m(\u001b[0m\u001b[0;34m)\u001b[0m\u001b[0;34m\u001b[0m\u001b[0m\n\u001b[1;32m    249\u001b[0m                     \u001b[0mself\u001b[0m\u001b[0;34m.\u001b[0m\u001b[0mkwargs\u001b[0m\u001b[0;34m[\u001b[0m\u001b[0mwidget\u001b[0m\u001b[0;34m.\u001b[0m\u001b[0m_kwarg\u001b[0m\u001b[0;34m]\u001b[0m \u001b[0;34m=\u001b[0m \u001b[0mvalue\u001b[0m\u001b[0;34m\u001b[0m\u001b[0m\n\u001b[0;32m--> 250\u001b[0;31m                 \u001b[0mself\u001b[0m\u001b[0;34m.\u001b[0m\u001b[0mresult\u001b[0m \u001b[0;34m=\u001b[0m \u001b[0mself\u001b[0m\u001b[0;34m.\u001b[0m\u001b[0mf\u001b[0m\u001b[0;34m(\u001b[0m\u001b[0;34m**\u001b[0m\u001b[0mself\u001b[0m\u001b[0;34m.\u001b[0m\u001b[0mkwargs\u001b[0m\u001b[0;34m)\u001b[0m\u001b[0;34m\u001b[0m\u001b[0m\n\u001b[0m\u001b[1;32m    251\u001b[0m                 \u001b[0mshow_inline_matplotlib_plots\u001b[0m\u001b[0;34m(\u001b[0m\u001b[0;34m)\u001b[0m\u001b[0;34m\u001b[0m\u001b[0m\n\u001b[1;32m    252\u001b[0m                 \u001b[0;32mif\u001b[0m \u001b[0mself\u001b[0m\u001b[0;34m.\u001b[0m\u001b[0mauto_display\u001b[0m \u001b[0;32mand\u001b[0m \u001b[0mself\u001b[0m\u001b[0;34m.\u001b[0m\u001b[0mresult\u001b[0m \u001b[0;32mis\u001b[0m \u001b[0;32mnot\u001b[0m \u001b[0;32mNone\u001b[0m\u001b[0;34m:\u001b[0m\u001b[0;34m\u001b[0m\u001b[0m\n",
          "\u001b[0;32m<ipython-input-8-f207c6107ea1>\u001b[0m in \u001b[0;36mmake_plot\u001b[0;34m(power)\u001b[0m\n\u001b[1;32m      3\u001b[0m     \u001b[0mx\u001b[0m \u001b[0;34m=\u001b[0m \u001b[0mnp\u001b[0m\u001b[0;34m.\u001b[0m\u001b[0mmgrid\u001b[0m\u001b[0;34m[\u001b[0m\u001b[0;36m0\u001b[0m\u001b[0;34m:\u001b[0m\u001b[0;36m10\u001b[0m\u001b[0;34m:\u001b[0m\u001b[0;36m200j\u001b[0m\u001b[0;34m]\u001b[0m\u001b[0;34m\u001b[0m\u001b[0m\n\u001b[1;32m      4\u001b[0m     \u001b[0my\u001b[0m\u001b[0;34m=\u001b[0m \u001b[0mx\u001b[0m\u001b[0;34m**\u001b[0m\u001b[0mpower\u001b[0m\u001b[0;34m\u001b[0m\u001b[0m\n\u001b[0;32m----> 5\u001b[0;31m     \u001b[0mplt\u001b[0m\u001b[0;34m.\u001b[0m\u001b[0msemilog\u001b[0m\u001b[0;34m(\u001b[0m\u001b[0mx\u001b[0m\u001b[0;34m,\u001b[0m\u001b[0my\u001b[0m\u001b[0;34m)\u001b[0m\u001b[0;34m\u001b[0m\u001b[0m\n\u001b[0m",
          "\u001b[0;31mAttributeError\u001b[0m: module 'matplotlib.pyplot' has no attribute 'semilog'"
         ]
        }
       ]
      }
     },
     "e2b405f927c54e96bff12cae53d87e47": {
      "model_module": "@jupyter-widgets/output",
      "model_module_version": "1.0.0",
      "model_name": "OutputModel",
      "state": {
       "layout": "IPY_MODEL_da9d8274bfc949a98b6d09008ac87763",
       "outputs": [
        {
         "data": {
          "image/png": "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\n",
          "text/plain": "<matplotlib.figure.Figure at 0x7f20e7d010b8>"
         },
         "metadata": {},
         "output_type": "display_data"
        }
       ]
      }
     },
     "ff7a3130db1d4231bfcb26bb78515332": {
      "model_module": "@jupyter-widgets/controls",
      "model_module_version": "1.1.0",
      "model_name": "SliderStyleModel",
      "state": {
       "description_width": ""
      }
     }
    },
    "version_major": 2,
    "version_minor": 0
   }
  }
 },
 "nbformat": 4,
 "nbformat_minor": 2
}
